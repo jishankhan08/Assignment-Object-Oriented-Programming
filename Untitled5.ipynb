{
  "nbformat": 4,
  "nbformat_minor": 0,
  "metadata": {
    "colab": {
      "provenance": []
    },
    "kernelspec": {
      "name": "python3",
      "display_name": "Python 3"
    },
    "language_info": {
      "name": "python"
    }
  },
  "cells": [
    {
      "cell_type": "markdown",
      "source": [
        "1. Explain the importance of Functions\n",
        "Functions are fundamental building blocks in programming that allow us to encapsulate a piece of code into a reusable block. They help in:\n",
        "\n",
        "Code Reusability: Functions allow you to reuse the same block of code multiple times.\n",
        "\n",
        "Modularity: Functions break down a complex problem into smaller, manageable pieces.\n",
        "\n",
        "Readability: They improve the readability of the code by providing meaningful names to blocks of code.\n",
        "\n",
        "Debugging: Easier to debug as each function can be tested individually."
      ],
      "metadata": {
        "id": "d_xpWClSebK_"
      }
    },
    {
      "cell_type": "markdown",
      "source": [
        "2. Write a basic function to greet students"
      ],
      "metadata": {
        "id": "BAzGWsUoerf1"
      }
    },
    {
      "cell_type": "code",
      "source": [
        "def greet_students(name):\n",
        "    return f\"Hello, {name}!\"\n"
      ],
      "metadata": {
        "id": "g3UZdq0GeupC"
      },
      "execution_count": 3,
      "outputs": []
    },
    {
      "cell_type": "markdown",
      "source": [
        "3. What is the difference between print and return statements?\n",
        "\n",
        "Print: Outputs the result to the console but does not save the result for further use.\n",
        "\n",
        "Return: Returns a value from a function and allows it to be used elsewhere in the program."
      ],
      "metadata": {
        "id": "QyzBUN_Oe2KN"
      }
    },
    {
      "cell_type": "markdown",
      "source": [
        "**4. What are *args and kwargs?\n",
        "\n",
        "*args: Allows you to pass a variable number of positional arguments to a function.\n",
        "\n",
        "**kwargs: Allows you to pass a variable number of keyword arguments to a function."
      ],
      "metadata": {
        "id": "dyty-kzIfA0c"
      }
    },
    {
      "cell_type": "markdown",
      "source": [
        "5. Explain the iterator function\n",
        "\n",
        "An iterator is an object that allows you to traverse through all the elements of a collection (e.g., lists, tuples) without needing to track the index"
      ],
      "metadata": {
        "id": "A0Gm-aopfKnP"
      }
    },
    {
      "cell_type": "markdown",
      "source": [
        "6. Write a code that generates the squares of numbers from 1 to n using a generator"
      ],
      "metadata": {
        "id": "1eIUFhSvfSf-"
      }
    },
    {
      "cell_type": "code",
      "source": [
        "def square_generator(n):\n",
        "    for i in range(1, n+1):\n",
        "        yield i ** 2\n"
      ],
      "metadata": {
        "id": "1lC_E0JxfTxE"
      },
      "execution_count": 4,
      "outputs": []
    },
    {
      "cell_type": "markdown",
      "source": [
        "7. Write a code that generates palindromic numbers up to n using a generator"
      ],
      "metadata": {
        "id": "dc33CWJ8fjyH"
      }
    },
    {
      "cell_type": "code",
      "source": [
        "def palindrome_generator(n):\n",
        "    for i in range(1, n+1):\n",
        "        if str(i) == str(i)[::-1]:\n",
        "            yield i\n"
      ],
      "metadata": {
        "id": "70kV7H5Cfje6"
      },
      "execution_count": 5,
      "outputs": []
    },
    {
      "cell_type": "markdown",
      "source": [
        "8. Write a code that generates even numbers from 2 to n using a generator"
      ],
      "metadata": {
        "id": "e1qImY4Pfopi"
      }
    },
    {
      "cell_type": "code",
      "source": [
        "def even_generator(n):\n",
        "    for i in range(2, n+1, 2):\n",
        "        yield i\n"
      ],
      "metadata": {
        "id": "BvxVTrEjfq80"
      },
      "execution_count": 6,
      "outputs": []
    },
    {
      "cell_type": "markdown",
      "source": [
        "9. Write a code that generates powers of two up to n using a generator"
      ],
      "metadata": {
        "id": "X4p7i_1yf21r"
      }
    },
    {
      "cell_type": "code",
      "source": [
        "def power_of_two_generator(n):\n",
        "    for i in range(n):\n",
        "        yield 2 ** i\n"
      ],
      "metadata": {
        "id": "LUjkw6Abfxmz"
      },
      "execution_count": 7,
      "outputs": []
    },
    {
      "cell_type": "markdown",
      "source": [
        "10. Write a code that generates prime numbers up to n using a generator"
      ],
      "metadata": {
        "id": "DDIfmhgSf6P3"
      }
    },
    {
      "cell_type": "code",
      "source": [
        "def prime_generator(n):\n",
        "    def is_prime(num):\n",
        "        if num < 2:\n",
        "            return False\n",
        "        for i in range(2, int(num**0.5) + 1):\n",
        "            if num % i == 0:\n",
        "                return False\n",
        "        return True\n",
        "\n",
        "    for i in range(2, n+1):\n",
        "        if is_prime(i):\n",
        "            yield i\n"
      ],
      "metadata": {
        "id": "CeP0_OIAf74T"
      },
      "execution_count": 8,
      "outputs": []
    },
    {
      "cell_type": "markdown",
      "source": [
        "11. Write a code that uses a lambda function to calculate the sum of two numbers"
      ],
      "metadata": {
        "id": "JvJgcBV5fwJh"
      }
    },
    {
      "cell_type": "code",
      "source": [
        "sum_lambda = lambda a, b: a + b\n"
      ],
      "metadata": {
        "id": "eE-Ky-HLgDId"
      },
      "execution_count": 9,
      "outputs": []
    },
    {
      "cell_type": "markdown",
      "source": [
        "12. Write a code that uses a lambda function to calculate the square of a given number"
      ],
      "metadata": {
        "id": "q5_1_JL6gGFI"
      }
    },
    {
      "cell_type": "code",
      "source": [
        "square_lambda = lambda x: x ** 2\n"
      ],
      "metadata": {
        "id": "_-_IETYzgIlC"
      },
      "execution_count": 10,
      "outputs": []
    },
    {
      "cell_type": "markdown",
      "source": [
        "13. Write a code that uses a lambda function to check whether a given number is even or odd"
      ],
      "metadata": {
        "id": "KQG81Fw_gLec"
      }
    },
    {
      "cell_type": "code",
      "source": [
        "even_odd_lambda = lambda x: \"Even\" if x % 2 == 0 else \"Odd\"\n"
      ],
      "metadata": {
        "id": "y8iQQOfugMn0"
      },
      "execution_count": 11,
      "outputs": []
    },
    {
      "cell_type": "markdown",
      "source": [
        "14. Write a code that uses a lambda function to concatenate two strings"
      ],
      "metadata": {
        "id": "8LV7gpCpgPGz"
      }
    },
    {
      "cell_type": "code",
      "source": [
        "concat_lambda = lambda s1, s2: s1 + s2\n"
      ],
      "metadata": {
        "id": "0BQCgkLqgRVe"
      },
      "execution_count": 12,
      "outputs": []
    },
    {
      "cell_type": "markdown",
      "source": [
        "15. Write a code that uses a lambda function to find the maximum of three given numbers"
      ],
      "metadata": {
        "id": "bN9_FUdFgVDX"
      }
    },
    {
      "cell_type": "code",
      "source": [
        "max_lambda = lambda a, b, c: max(a, b, c)\n"
      ],
      "metadata": {
        "id": "rxSEmChCgZyl"
      },
      "execution_count": 13,
      "outputs": []
    },
    {
      "cell_type": "markdown",
      "source": [
        "16. Write a code that generates the squares of even numbers from a given list"
      ],
      "metadata": {
        "id": "JUXU5N2wge8A"
      }
    },
    {
      "cell_type": "code",
      "source": [
        "def even_squares(lst):\n",
        "    return [x**2 for x in lst if x % 2 == 0]\n"
      ],
      "metadata": {
        "id": "5a95Vbdagge5"
      },
      "execution_count": 14,
      "outputs": []
    },
    {
      "cell_type": "markdown",
      "source": [
        "17. Write a code that calculates the product of positive numbers from a given list"
      ],
      "metadata": {
        "id": "PlZpZ_ESglLU"
      }
    },
    {
      "cell_type": "code",
      "source": [
        "from functools import reduce\n",
        "\n",
        "def product_of_positives(lst):\n",
        "    return reduce(lambda x, y: x * y, [i for i in lst if i > 0], 1)\n"
      ],
      "metadata": {
        "id": "HDy01VJag73f"
      },
      "execution_count": 15,
      "outputs": []
    },
    {
      "cell_type": "markdown",
      "source": [
        "18. Write a code that doubles the values of odd numbers from a given list"
      ],
      "metadata": {
        "id": "ZnoICV9whB_c"
      }
    },
    {
      "cell_type": "code",
      "source": [
        "def double_odds(lst):\n",
        "    return [x * 2 for x in lst if x % 2 != 0]\n"
      ],
      "metadata": {
        "id": "rimrlRuzhFMV"
      },
      "execution_count": 16,
      "outputs": []
    },
    {
      "cell_type": "markdown",
      "source": [
        "19. Write a code that calculates the sum of cubes of numbers from a given list"
      ],
      "metadata": {
        "id": "S1GrnkJPhI0Y"
      }
    },
    {
      "cell_type": "code",
      "source": [
        "def sum_of_cubes(lst):\n",
        "    return sum([x**3 for x in lst])\n"
      ],
      "metadata": {
        "id": "6OaBctXMhM5T"
      },
      "execution_count": 17,
      "outputs": []
    },
    {
      "cell_type": "markdown",
      "source": [
        "20. Write a code that filters out prime numbers from a given list"
      ],
      "metadata": {
        "id": "48YUJ80nhP82"
      }
    },
    {
      "cell_type": "code",
      "source": [
        "def filter_primes(lst):\n",
        "    def is_prime(num):\n",
        "        if num < 2:\n",
        "            return False\n",
        "        for i in range(2, int(num**0.5) + 1):\n",
        "            if num % i == 0:\n",
        "                return False\n",
        "        return True\n",
        "\n",
        "    return [x for x in lst if is_prime(x)]\n"
      ],
      "metadata": {
        "id": "FAwEia_IhPc3"
      },
      "execution_count": 18,
      "outputs": []
    },
    {
      "cell_type": "markdown",
      "source": [
        "21. Write a code that uses a lambda function to calculate the sum of two numbers"
      ],
      "metadata": {
        "id": "b9WjVMZdhTny"
      }
    },
    {
      "cell_type": "code",
      "source": [
        "sum_lambda = lambda a, b: a + b\n"
      ],
      "metadata": {
        "id": "vpjJWQybhSJa"
      },
      "execution_count": 19,
      "outputs": []
    },
    {
      "cell_type": "markdown",
      "source": [
        "22. Write a code that uses a lambda function to calculate the square of a given number"
      ],
      "metadata": {
        "id": "tIUnWamwhS-E"
      }
    },
    {
      "cell_type": "code",
      "source": [
        "square_lambda = lambda x: x ** 2\n"
      ],
      "metadata": {
        "id": "GlsY9iEShbJm"
      },
      "execution_count": 20,
      "outputs": []
    },
    {
      "cell_type": "markdown",
      "source": [
        "23. Write a code that uses a lambda function to check whether a given number is even or odd"
      ],
      "metadata": {
        "id": "JBjbydKvhR7R"
      }
    },
    {
      "cell_type": "code",
      "source": [
        "even_odd_lambda = lambda x: \"Even\" if x % 2 == 0 else \"Odd\"\n"
      ],
      "metadata": {
        "id": "4i_2_w93hgvp"
      },
      "execution_count": 21,
      "outputs": []
    },
    {
      "cell_type": "markdown",
      "source": [
        "24. Write a code that uses a lambda function to concatenate two strings"
      ],
      "metadata": {
        "id": "oB-YuRX3hmOB"
      }
    },
    {
      "cell_type": "code",
      "source": [
        "concat_lambda = lambda s1, s2: s1 + s2\n"
      ],
      "metadata": {
        "id": "OGZp04OOhoqu"
      },
      "execution_count": 22,
      "outputs": []
    },
    {
      "cell_type": "markdown",
      "source": [
        "25. Write a code that uses a lambda function to find the maximum of three given numbers"
      ],
      "metadata": {
        "id": "TnZlxcQfhr-A"
      }
    },
    {
      "cell_type": "code",
      "source": [
        "max_lambda = lambda a, b, c: max(a, b, c)\n"
      ],
      "metadata": {
        "id": "39LIgW-zhspg"
      },
      "execution_count": 23,
      "outputs": []
    },
    {
      "cell_type": "markdown",
      "source": [
        "26. What is encapsulation in OOP?\n",
        "\n",
        "Encapsulation is a fundamental concept in OOP that restricts direct access to some of an object's components. It helps protect the data inside an object by bundling the data (attributes) and methods (functions) that manipulate that data into a single unit or class."
      ],
      "metadata": {
        "id": "MqajkSYjhxXW"
      }
    },
    {
      "cell_type": "markdown",
      "source": [
        "27. Explain the use of access modifiers in Python classes\n",
        "\n",
        "In Python, access modifiers like public, private, and protected control the accessibility of class members.\n",
        "\n",
        "\n",
        "Public: Accessible from anywhere.\n",
        "\n",
        "Protected (_variable): Accessible within the class and its subclasses.\n",
        "\n",
        "Private (__variable): Accessible only within the class itself."
      ],
      "metadata": {
        "id": "2IsMtnnphyaZ"
      }
    },
    {
      "cell_type": "markdown",
      "source": [
        "28. What is inheritance in OOP?\n",
        "\n",
        "Inheritance is a mechanism where one class (child class) inherits the attributes and methods of another class (parent class). It promotes code reusability and establishes a relationship between classes."
      ],
      "metadata": {
        "id": "a4RVLeRKhy07"
      }
    },
    {
      "cell_type": "markdown",
      "source": [
        "29. Define polymorphism in OOP\n",
        "\n",
        "Polymorphism allows objects of different classes to be treated as objects of a common superclass. It is achieved through method overriding and method overloading."
      ],
      "metadata": {
        "id": "EF9_4PjYiOTE"
      }
    },
    {
      "cell_type": "markdown",
      "source": [
        "30. Explain method overriding in Python\n",
        "\n",
        "Method overriding occurs when a subclass provides a specific implementation of a method that is already defined in its superclass."
      ],
      "metadata": {
        "id": "pva4zF4oiSlB"
      }
    },
    {
      "cell_type": "markdown",
      "source": [
        "31. Define a parent class Animal with a method 'make_sound' that prints \"Generic animal sound\". Create a child class Dog inheriting from Animal with a method 'make_sound' that prints \"Woof!\""
      ],
      "metadata": {
        "id": "Z-6Uuwe3iS1Y"
      }
    },
    {
      "cell_type": "code",
      "source": [
        "class Animal:\n",
        "    def make_sound(self):\n",
        "        print(\"Generic animal sound\")\n",
        "\n",
        "class Dog(Animal):\n",
        "    def make_sound(self):\n",
        "        print(\"Woof!\")\n"
      ],
      "metadata": {
        "id": "IiyTlB0_ijI0"
      },
      "execution_count": 24,
      "outputs": []
    },
    {
      "cell_type": "markdown",
      "source": [
        "32. Define a method 'move' in the Animal class that prints \"Animal moves\". Override the 'move' method in the Dog class to print \"Dog runs.\""
      ],
      "metadata": {
        "id": "lU6r4NUgimfK"
      }
    },
    {
      "cell_type": "code",
      "source": [
        "class Animal:\n",
        "    def move(self):\n",
        "        print(\"Animal moves\")\n",
        "\n",
        "class Dog(Animal):\n",
        "    def move(self):\n",
        "        print(\"Dog runs\")\n"
      ],
      "metadata": {
        "id": "gkgCsDm4ilWt"
      },
      "execution_count": 25,
      "outputs": []
    },
    {
      "cell_type": "markdown",
      "source": [
        "33. Create a class Mammal with a method 'reproduce' that prints \"Giving birth to live young.\" Create a class DogMammal inheriting from both Dog and Mammal"
      ],
      "metadata": {
        "id": "Fxzme6GXiy0e"
      }
    },
    {
      "cell_type": "code",
      "source": [
        "class Mammal:\n",
        "    def reproduce(self):\n",
        "        print(\"Giving birth to live young\")\n",
        "\n",
        "class DogMammal(Dog, Mammal):\n",
        "    pass\n"
      ],
      "metadata": {
        "id": "9ZfKMOU3i9LD"
      },
      "execution_count": 26,
      "outputs": []
    },
    {
      "cell_type": "markdown",
      "source": [
        "34. Create a class GermanShepherd inheriting from Dog and override the 'make_sound' method to print \"Bark!\""
      ],
      "metadata": {
        "id": "kbq4MMLVjCy1"
      }
    },
    {
      "cell_type": "code",
      "source": [
        "class GermanShepherd(Dog):\n",
        "    def make_sound(self):\n",
        "        print(\"Bark!\")\n"
      ],
      "metadata": {
        "id": "Sp9HcBB2jHX2"
      },
      "execution_count": 27,
      "outputs": []
    },
    {
      "cell_type": "markdown",
      "source": [
        "35. Define constructors in both the Animal and Dog classes with different initialization parameters"
      ],
      "metadata": {
        "id": "kouZp6SojLK3"
      }
    },
    {
      "cell_type": "code",
      "source": [
        "class Animal:\n",
        "    def __init__(self, species):\n",
        "        self.species = species\n",
        "\n",
        "class Dog(Animal):\n",
        "    def __init__(self, species, breed):\n",
        "        super().__init__(species)\n",
        "        self.breed = breed\n"
      ],
      "metadata": {
        "id": "mo3A_GLdjNSA"
      },
      "execution_count": 28,
      "outputs": []
    },
    {
      "cell_type": "markdown",
      "source": [
        "36. What is abstraction in Python? How is it implemented?\n",
        "\n",
        "Abstraction in Python hides the implementation details and shows only the essential features. It is implemented using abstract classes and interfaces with the help of the 'abc' module."
      ],
      "metadata": {
        "id": "fwiFaPVLjRgE"
      }
    },
    {
      "cell_type": "markdown",
      "source": [
        "37. Explain the importance of abstraction in object-oriented programming\n",
        "\n",
        "Abstraction helps in reducing complexity by hiding unnecessary details and exposing only relevant functionalities, making it easier to work with complex systems."
      ],
      "metadata": {
        "id": "-LyoFtvgjWlv"
      }
    },
    {
      "cell_type": "markdown",
      "source": [
        "38. How are abstract methods different from regular methods in Python?\n",
        "\n",
        "Abstract methods are declared in an abstract class but have no implementation. They must be overridden in the subclass. Regular methods, on the other hand, have an implementation in the class."
      ],
      "metadata": {
        "id": "Deh_BU-sjaDQ"
      }
    },
    {
      "cell_type": "markdown",
      "source": [
        "39. How can you achieve abstraction using interfaces in Python?\n",
        "\n",
        "Abstraction can be achieved using interfaces by creating a class with one or more abstract methods. A concrete class must implement all abstract methods from the interface."
      ],
      "metadata": {
        "id": "uYqZvCkjjdwC"
      }
    },
    {
      "cell_type": "markdown",
      "source": [
        "40. Can you provide an example of how abstraction can be utilized to create a common interface for a group of related classes in Python?"
      ],
      "metadata": {
        "id": "tcNGL8WnjhSU"
      }
    },
    {
      "cell_type": "code",
      "source": [
        "from abc import ABC, abstractmethod\n",
        "\n",
        "class Shape(ABC):\n",
        "    @abstractmethod\n",
        "    def area(self):\n",
        "        pass\n",
        "\n",
        "class Circle(Shape):\n",
        "    def __init__(self, radius):\n",
        "        self.radius = radius\n",
        "\n",
        "    def area(self):\n",
        "        return 3.14 * self.radius ** 2\n",
        "\n",
        "class Square(Shape):\n",
        "    def __init__(self, side):\n",
        "        self.side = side\n",
        "\n",
        "    def area(self):\n",
        "        return self.side ** 2\n"
      ],
      "metadata": {
        "id": "MR9oOldkjjgl"
      },
      "execution_count": 29,
      "outputs": []
    },
    {
      "cell_type": "markdown",
      "source": [
        "41. How does Python achieve polymorphism through method overriding?\n",
        "\n",
        "Python achieves polymorphism through method overriding by allowing a subclass to provide a specific implementation of a method that is already defined in its parent class."
      ],
      "metadata": {
        "id": "HQJ9e8sijlut"
      }
    },
    {
      "cell_type": "markdown",
      "source": [
        "42. Define a base class with a method and a subclass that overrides the method"
      ],
      "metadata": {
        "id": "ZwF5RdPWjonj"
      }
    },
    {
      "cell_type": "code",
      "source": [
        "class Base:\n",
        "    def greet(self):\n",
        "        print(\"Hello from Base\")\n",
        "\n",
        "class Sub(Base):\n",
        "    def greet(self):\n",
        "        print(\"Hello from Sub\")\n"
      ],
      "metadata": {
        "id": "taUkG_vljtho"
      },
      "execution_count": 30,
      "outputs": []
    },
    {
      "cell_type": "markdown",
      "source": [
        "43. Define a base class and multiple subclasses with overridden methods"
      ],
      "metadata": {
        "id": "K0z49a4fjw5U"
      }
    },
    {
      "cell_type": "code",
      "source": [
        "class Animal:\n",
        "    def sound(self):\n",
        "        pass\n",
        "\n",
        "class Dog(Animal):\n",
        "    def sound(self):\n",
        "        print(\"Woof!\")\n",
        "\n",
        "class Cat(Animal):\n",
        "    def sound(self):\n",
        "        print(\"Meow!\")\n"
      ],
      "metadata": {
        "id": "M1k5PZ3pjyll"
      },
      "execution_count": 31,
      "outputs": []
    },
    {
      "cell_type": "markdown",
      "source": [
        "44. How does polymorphism improve code readability and reusability?\n",
        "\n",
        "Polymorphism improves code readability by allowing different classes to be treated as objects of a common superclass, making the code more flexible and easier to understand. It also enhances reusability by enabling the same method to operate on different types of objects."
      ],
      "metadata": {
        "id": "ro8t-tR7j1ys"
      }
    },
    {
      "cell_type": "markdown",
      "source": [
        "45. Describe how Python supports polymorphism with duck typing\n",
        "\n",
        "In Python, duck typing means that an object's suitability is determined by the presence of certain methods and properties, rather than the actual type of the object. If it \"quacks like a duck,\" it is considered a duck."
      ],
      "metadata": {
        "id": "0owdDvHUj1oZ"
      }
    },
    {
      "cell_type": "markdown",
      "source": [
        "46. How do you achieve encapsulation in Python?\n",
        "\n",
        "Encapsulation in Python is achieved by using private attributes and methods (prefixed with '__'). This restricts direct access to these members from outside the class."
      ],
      "metadata": {
        "id": "J39GRaotj1a-"
      }
    },
    {
      "cell_type": "markdown",
      "source": [
        "47. Can encapsulation be bypassed in Python? If so, how?\n",
        "\n",
        "Yes, encapsulation can be bypassed in Python by accessing private attributes using name mangling, e.g., '_ClassName__attribute'."
      ],
      "metadata": {
        "id": "GwlSDipvkEa5"
      }
    },
    {
      "cell_type": "markdown",
      "source": [
        "48. Implement a class 'BankAccount' with a private balance attribute. Include methods to deposit, withdraw, and check the balance"
      ],
      "metadata": {
        "id": "PiLpq_E5kUX9"
      }
    },
    {
      "cell_type": "code",
      "source": [
        "class BankAccount:\n",
        "    def __init__(self, initial_balance=0):\n",
        "        self.__balance = initial_balance\n",
        "\n",
        "    def deposit(self, amount):\n",
        "        if amount > 0:\n",
        "            self.__balance += amount\n",
        "\n",
        "    def withdraw(self, amount):\n",
        "        if 0 < amount <= self.__balance:\n",
        "            self.__balance -= amount\n",
        "\n",
        "    def get_balance(self):\n",
        "        return self.__balance\n"
      ],
      "metadata": {
        "id": "WmwGRQs7kZ4Q"
      },
      "execution_count": 32,
      "outputs": []
    },
    {
      "cell_type": "markdown",
      "source": [
        "49. Develop a Person class with private attributes 'name' and 'email', and methods to set and get the email"
      ],
      "metadata": {
        "id": "nU8GiRVZkcMG"
      }
    },
    {
      "cell_type": "code",
      "source": [
        "class Person:\n",
        "    def __init__(self, name, email):\n",
        "        self.name = name\n",
        "        self.__email = email\n",
        "\n",
        "    def set_email(self, email):\n",
        "        self.__email = email\n",
        "\n",
        "    def get_email(self):\n",
        "        return self.__email\n"
      ],
      "metadata": {
        "id": "veXHICo3kuEk"
      },
      "execution_count": 33,
      "outputs": []
    },
    {
      "cell_type": "markdown",
      "source": [
        "50. Why is encapsulation considered a pillar of object-oriented programming (OOP)?\n",
        "\n",
        "Encapsulation is considered a pillar of OOP because it helps in data hiding, protects the integrity of the data, and promotes modularity and maintainability of the code."
      ],
      "metadata": {
        "id": "LY-Fgyp_kx-W"
      }
    },
    {
      "cell_type": "markdown",
      "source": [
        "51. Create a decorator in Python that adds functionality to a simple function by printing a message before and after the function execution"
      ],
      "metadata": {
        "id": "DDxO4NOEk1e1"
      }
    },
    {
      "cell_type": "code",
      "source": [
        "def simple_decorator(func):\n",
        "    def wrapper():\n",
        "        print(\"Before function execution\")\n",
        "        func()\n",
        "        print(\"After function execution\")\n",
        "    return wrapper\n",
        "\n",
        "@simple_decorator\n",
        "def my_function():\n",
        "    print(\"Function is running\")\n",
        "\n",
        "my_function()\n"
      ],
      "metadata": {
        "colab": {
          "base_uri": "https://localhost:8080/"
        },
        "id": "wgAjxuaTk3LB",
        "outputId": "0b526d94-cc57-499f-d67d-c6a4143ab8d9"
      },
      "execution_count": 34,
      "outputs": [
        {
          "output_type": "stream",
          "name": "stdout",
          "text": [
            "Before function execution\n",
            "Function is running\n",
            "After function execution\n"
          ]
        }
      ]
    },
    {
      "cell_type": "markdown",
      "source": [
        "52. Modify the decorator to accept arguments and print the function name along with the message"
      ],
      "metadata": {
        "id": "CYfe1B1Zk6JO"
      }
    },
    {
      "cell_type": "code",
      "source": [
        "def decorator_with_args(func):\n",
        "    def wrapper(*args, **kwargs):\n",
        "        print(f\"Before {func.__name__} execution\")\n",
        "        result = func(*args, **kwargs)\n",
        "        print(f\"After {func.__name__} execution\")\n",
        "        return result\n",
        "    return wrapper\n",
        "\n",
        "@decorator_with_args\n",
        "def my_function(name):\n",
        "    print(f\"Hello, {name}\")\n",
        "\n",
        "my_function(\"Alice\")\n"
      ],
      "metadata": {
        "colab": {
          "base_uri": "https://localhost:8080/"
        },
        "id": "YYb0P2Shk95I",
        "outputId": "18fbb383-26e7-4616-f9f1-4a71c5bbee24"
      },
      "execution_count": 35,
      "outputs": [
        {
          "output_type": "stream",
          "name": "stdout",
          "text": [
            "Before my_function execution\n",
            "Hello, Alice\n",
            "After my_function execution\n"
          ]
        }
      ]
    },
    {
      "cell_type": "markdown",
      "source": [
        "53. Create two decorators, and apply them to a single function. Ensure that they execute in the order they are applied"
      ],
      "metadata": {
        "id": "St7e-L4vlAhY"
      }
    },
    {
      "cell_type": "code",
      "source": [
        "def first_decorator(func):\n",
        "    def wrapper():\n",
        "        print(\"First decorator\")\n",
        "        func()\n",
        "    return wrapper\n",
        "\n",
        "def second_decorator(func):\n",
        "    def wrapper():\n",
        "        print(\"Second decorator\")\n",
        "        func()\n",
        "    return wrapper\n",
        "\n",
        "@first_decorator\n",
        "@second_decorator\n",
        "def my_function():\n",
        "    print(\"Function is running\")\n",
        "\n",
        "my_function()\n"
      ],
      "metadata": {
        "colab": {
          "base_uri": "https://localhost:8080/"
        },
        "id": "Yloue5SvlBqQ",
        "outputId": "0bbb5327-c6b4-41cc-83d0-b72a80d5b6a7"
      },
      "execution_count": 36,
      "outputs": [
        {
          "output_type": "stream",
          "name": "stdout",
          "text": [
            "First decorator\n",
            "Second decorator\n",
            "Function is running\n"
          ]
        }
      ]
    },
    {
      "cell_type": "markdown",
      "source": [
        "54. Modify the decorator to accept and pass function arguments to the wrapped function"
      ],
      "metadata": {
        "id": "OtBAT5W-lFYW"
      }
    },
    {
      "cell_type": "code",
      "source": [
        "def decorator_with_args(func):\n",
        "    def wrapper(*args, **kwargs):\n",
        "        print(f\"Arguments passed: {args}, {kwargs}\")\n",
        "        return func(*args, **kwargs)\n",
        "    return wrapper\n",
        "\n",
        "@decorator_with_args\n",
        "def my_function(x, y):\n",
        "    return x + y\n",
        "\n",
        "print(my_function(3, 5))\n"
      ],
      "metadata": {
        "colab": {
          "base_uri": "https://localhost:8080/"
        },
        "id": "dnnCvX4UlKfZ",
        "outputId": "d1b2ac97-10ec-4e94-d64e-543c27c13a08"
      },
      "execution_count": 37,
      "outputs": [
        {
          "output_type": "stream",
          "name": "stdout",
          "text": [
            "Arguments passed: (3, 5), {}\n",
            "8\n"
          ]
        }
      ]
    },
    {
      "cell_type": "markdown",
      "source": [
        "55. Create a decorator that preserves the metadata of the original function"
      ],
      "metadata": {
        "id": "KQFrIbAtlMa6"
      }
    },
    {
      "cell_type": "code",
      "source": [
        "from functools import wraps\n",
        "\n",
        "def preserving_decorator(func):\n",
        "    @wraps(func)\n",
        "    def wrapper(*args, **kwargs):\n",
        "        return func(*args, **kwargs)\n",
        "    return wrapper\n",
        "\n",
        "@preserving_decorator\n",
        "def my_function(x, y):\n",
        "    \"\"\"This is a simple addition function\"\"\"\n",
        "    return x + y\n",
        "\n",
        "print(my_function.__name__)  # Outputs: my_function\n",
        "print(my_function.__doc__)   # Outputs: This is a simple addition function\n"
      ],
      "metadata": {
        "colab": {
          "base_uri": "https://localhost:8080/"
        },
        "id": "P34G4Y-2lO5u",
        "outputId": "80ec419d-9e87-4300-9510-57e4d665626e"
      },
      "execution_count": 38,
      "outputs": [
        {
          "output_type": "stream",
          "name": "stdout",
          "text": [
            "my_function\n",
            "This is a simple addition function\n"
          ]
        }
      ]
    },
    {
      "cell_type": "markdown",
      "source": [
        "56. Create a Python class 'Calculator' with a static method add that takes in two numbers and returns their sum"
      ],
      "metadata": {
        "id": "jROyrXIJlSNi"
      }
    },
    {
      "cell_type": "code",
      "source": [
        "class Calculator:\n",
        "    @staticmethod\n",
        "    def add(a, b):\n",
        "        return a + b\n"
      ],
      "metadata": {
        "id": "O2TTrrUMlVVN"
      },
      "execution_count": 39,
      "outputs": []
    },
    {
      "cell_type": "markdown",
      "source": [
        "57. Create a Python class Employee with a class method 'get_employee_count' that returns the total number of employees created"
      ],
      "metadata": {
        "id": "ohotp6hglZ1_"
      }
    },
    {
      "cell_type": "code",
      "source": [
        "class Employee:\n",
        "    employee_count = 0\n",
        "\n",
        "    def __init__(self, name):\n",
        "        self.name = name\n",
        "        Employee.employee_count += 1\n",
        "\n",
        "    @classmethod\n",
        "    def get_employee_count(cls):\n",
        "        return cls.employee_count\n"
      ],
      "metadata": {
        "id": "4_fVLR9hld_g"
      },
      "execution_count": 40,
      "outputs": []
    },
    {
      "cell_type": "markdown",
      "source": [
        "58. Create a Python class 'StringFormatter' with a static method 'reverse_string' that takes a string as input and returns its reverse"
      ],
      "metadata": {
        "id": "9L5-bGnblkLV"
      }
    },
    {
      "cell_type": "code",
      "source": [
        "class StringFormatter:\n",
        "    @staticmethod\n",
        "    def reverse_string(s):\n",
        "        return s[::-1]\n"
      ],
      "metadata": {
        "id": "ysYc5tGVlp6V"
      },
      "execution_count": 41,
      "outputs": []
    },
    {
      "cell_type": "markdown",
      "source": [
        "59. Create a Python class 'Circle' with a class method 'calculate_area' that calculates the area of a circle given its radius"
      ],
      "metadata": {
        "id": "52HkqL2HlxD0"
      }
    },
    {
      "cell_type": "code",
      "source": [
        "class Circle:\n",
        "    @classmethod\n",
        "    def calculate_area(cls, radius):\n",
        "        return 3.14 * radius ** 2\n"
      ],
      "metadata": {
        "id": "v_0QNC1sl30E"
      },
      "execution_count": 42,
      "outputs": []
    },
    {
      "cell_type": "markdown",
      "source": [
        "60. Create a Python class 'TemperatureConverter' with a static method 'celsius_to_fahrenheit' that converts Celsius to Fahrenheit"
      ],
      "metadata": {
        "id": "gwLmc3oymNtm"
      }
    },
    {
      "cell_type": "code",
      "source": [
        "class TemperatureConverter:\n",
        "    @staticmethod\n",
        "    def celsius_to_fahrenheit(celsius):\n",
        "        return celsius * 9/5 + 32\n"
      ],
      "metadata": {
        "id": "NDm5OKtVmc2x"
      },
      "execution_count": 43,
      "outputs": []
    },
    {
      "cell_type": "markdown",
      "source": [
        "61. What is the purpose of the '__str__()' method in Python classes? Provide an example\n",
        "\n",
        "The '__str__()' method provides a human-readable string representation of an object. It is invoked by 'str()' or 'print()' functions."
      ],
      "metadata": {
        "id": "43QPG1Mbmgt1"
      }
    },
    {
      "cell_type": "code",
      "source": [
        "class Person:\n",
        "    def __init__(self, name, age):\n",
        "        self.name = name\n",
        "        self.age = age\n",
        "\n",
        "    def __str__(self):\n",
        "        return f\"Person(name={self.name}, age={self.age})\"\n"
      ],
      "metadata": {
        "id": "ZG_oYlHOmq6_"
      },
      "execution_count": 44,
      "outputs": []
    },
    {
      "cell_type": "markdown",
      "source": [
        "62. How does the '__len__()' method work in Python? Provide an example\n",
        "\n",
        "The '__len__()' method returns the length of an object. It is used by the 'len(' function"
      ],
      "metadata": {
        "id": "RVzT6XEbmwG8"
      }
    },
    {
      "cell_type": "code",
      "source": [
        "class MyList:\n",
        "    def __init__(self, items):\n",
        "        self.items = items\n",
        "\n",
        "    def __len__(self):\n",
        "        return len(self.items)\n"
      ],
      "metadata": {
        "id": "1hipEakmm0gI"
      },
      "execution_count": 45,
      "outputs": []
    },
    {
      "cell_type": "markdown",
      "source": [
        "63. Explain the usage of the '__add__()' method in Python classes. Provide an example\n",
        "\n",
        "The '__add__()' method defines the behavior of the '+' operator for instances of a class."
      ],
      "metadata": {
        "id": "dmMGwINJm4Co"
      }
    },
    {
      "cell_type": "code",
      "source": [
        "class Vector:\n",
        "    def __init__(self, x, y):\n",
        "        self.x = x\n",
        "        self.y = y\n",
        "\n",
        "    def __add__(self, other):\n",
        "        return Vector(self.x + other.x, self.y + other.y)\n"
      ],
      "metadata": {
        "id": "FolS9AgQm_FM"
      },
      "execution_count": 46,
      "outputs": []
    },
    {
      "cell_type": "markdown",
      "source": [
        "64. What is the purpose of the __getitem'__()' method in Python? Provide an example\n",
        "\n",
        "The '__getitem__()' method allows an object to be indexed using square brackets ('[]')."
      ],
      "metadata": {
        "id": "6t1C51TfnEEk"
      }
    },
    {
      "cell_type": "code",
      "source": [
        "class MyList:\n",
        "    def __init__(self, items):\n",
        "        self.items = items\n",
        "\n",
        "    def __getitem__(self, index):\n",
        "        return self.items[index]\n"
      ],
      "metadata": {
        "id": "UTOniM50nNYr"
      },
      "execution_count": 47,
      "outputs": []
    },
    {
      "cell_type": "markdown",
      "source": [
        "65. Explain the role of the '__eq__()' method in Python classes. Provide an example\n",
        "\n",
        "The '__eq__()' method is used to compare two objects for equality using the '==' operator."
      ],
      "metadata": {
        "id": "Y5q6xI2enSPp"
      }
    },
    {
      "cell_type": "code",
      "source": [
        "class Person:\n",
        "    def __init__(self, name, age):\n",
        "        self.name = name\n",
        "        self.age = age\n",
        "\n",
        "    def __eq__(self, other):\n",
        "        return self.name == other.name and self.age == other.age\n"
      ],
      "metadata": {
        "id": "PWmrANfynRs3"
      },
      "execution_count": 48,
      "outputs": []
    },
    {
      "cell_type": "markdown",
      "source": [
        "66. How do you implement the '__iter__()' method in Python classes? Provide an example\n",
        "\n",
        "The '__iter__()' method returns an iterator object, which is used to iterate over a collection."
      ],
      "metadata": {
        "id": "v9In36VInbaG"
      }
    },
    {
      "cell_type": "code",
      "source": [
        "class MyList:\n",
        "    def __init__(self, items):\n",
        "        self.items = items\n",
        "\n",
        "    def __iter__(self):\n",
        "        return iter(self.items)\n"
      ],
      "metadata": {
        "id": "A_OzFVQBnjUr"
      },
      "execution_count": 49,
      "outputs": []
    },
    {
      "cell_type": "markdown",
      "source": [
        "67. Explain the usage of the '__next__()' method in Python iterators. Provide an example\n",
        "\n",
        "The '__next__()' method returns the next item from an iterator. It raises StopIteration when there are no more items."
      ],
      "metadata": {
        "id": "u0z1SWTlnnn4"
      }
    },
    {
      "cell_type": "code",
      "source": [
        "class MyIterator:\n",
        "    def __init__(self, data):\n",
        "        self.data = data\n",
        "        self.index = 0\n",
        "\n",
        "    def __next__(self):\n",
        "        if self.index < len(self.data):\n",
        "            item = self.data[self.index]\n",
        "            self.index += 1\n",
        "            return item\n",
        "        else:\n",
        "            raise StopIteration\n"
      ],
      "metadata": {
        "id": "PiuTUCxSnpDE"
      },
      "execution_count": 50,
      "outputs": []
    },
    {
      "cell_type": "markdown",
      "source": [
        "68. How can you override the '__call__()' method in Python classes? Provide an example\n",
        "\n",
        "The '__call__()' method allows an instance of a class to be called as a function.\n",
        "\n",
        "> Add blockquote\n",
        "\n"
      ],
      "metadata": {
        "id": "t4C1QqRmnsUL"
      }
    },
    {
      "cell_type": "code",
      "source": [
        "class Multiplier:\n",
        "    def __init__(self, factor):\n",
        "        self.factor = factor\n",
        "\n",
        "    def __call__(self, value):\n",
        "        return value * self.factor\n"
      ],
      "metadata": {
        "id": "VcAQ5--zntq6"
      },
      "execution_count": 51,
      "outputs": []
    },
    {
      "cell_type": "markdown",
      "source": [
        "69. Create a class 'Complex' that overloads the '+' operator to add two complex numbers"
      ],
      "metadata": {
        "id": "JkJa7DKpnwHT"
      }
    },
    {
      "cell_type": "code",
      "source": [
        "class Complex:\n",
        "    def __init__(self, real, imag):\n",
        "        self.real = real\n",
        "        self.imag = imag\n",
        "\n",
        "    def __add__(self, other):\n",
        "        return Complex(self.real + other.real, self.imag + other.imag)\n",
        "\n",
        "    def __str__(self):\n",
        "        return f\"{self.real} + {self.imag}i\"\n"
      ],
      "metadata": {
        "id": "2hS7FFM8nxwV"
      },
      "execution_count": 52,
      "outputs": []
    },
    {
      "cell_type": "markdown",
      "source": [
        "70. How can you override the '__del__()' method in Python classes? Provide an example\n",
        "\n",
        "The '__del__()' method is called when an object is about to be destroyed."
      ],
      "metadata": {
        "id": "73bf6L1Hnz85"
      }
    },
    {
      "cell_type": "code",
      "source": [
        "class MyClass:\n",
        "    def __del__(self):\n",
        "        print(f\"Object {self} is being destroyed\")\n"
      ],
      "metadata": {
        "id": "RzfXqoQNn1FX"
      },
      "execution_count": 53,
      "outputs": []
    },
    {
      "cell_type": "markdown",
      "source": [
        "71. Implement a custom iterator in Python by overriding the '__iter__()' and '__next__()' methods"
      ],
      "metadata": {
        "id": "bX5tC7Vzn4Df"
      }
    },
    {
      "cell_type": "code",
      "source": [
        "class MyRange:\n",
        "    def __init__(self, start, end):\n",
        "        self.current = start\n",
        "        self.end = end\n",
        "\n",
        "    def __iter__(self):\n",
        "        return self\n",
        "\n",
        "    def __next__(self):\n",
        "        if self.current < self.end:\n",
        "            self.current += 1\n",
        "            return self.current - 1\n",
        "        else:\n",
        "            raise StopIteration\n"
      ],
      "metadata": {
        "id": "sI4ppfVBn5PX"
      },
      "execution_count": 54,
      "outputs": []
    }
  ]
}